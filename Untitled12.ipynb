{
 "cells": [
  {
   "cell_type": "code",
   "execution_count": null,
   "id": "2afdaeb8-febe-4cbd-849f-7a29641afab8",
   "metadata": {},
   "outputs": [],
   "source": [
    "Q1: What is Estimation Statistics? Explain point estimate and interval estimate."
   ]
  },
  {
   "cell_type": "code",
   "execution_count": null,
   "id": "3f6b3523-38e4-4ec9-bf52-c28a3ee7661d",
   "metadata": {},
   "outputs": [],
   "source": [
    "Estimation statistics is a branch of statistics that involves making inferences or predictions about population parameters\n",
    "based on sample data. \n",
    "\n",
    "Point Estimate:\n",
    "A point estimate is a single value that serves as an estimate of an unknown population parameter. \n",
    "It is calculated using sample statistics, such as the mean, median, proportion\n",
    "    \n",
    "Interval Estimate:\n",
    "An interval estimate, also known as a confidence interval, is a range of values within which the true population parameter \n",
    "is likely to lie with a certain level of confidence."
   ]
  },
  {
   "cell_type": "code",
   "execution_count": null,
   "id": "fb1f2c79-f448-4be2-8a37-d80cce250e28",
   "metadata": {},
   "outputs": [],
   "source": [
    "Q2. Write a Python function to estimate the population mean using a sample mean and standard\n",
    "deviation."
   ]
  },
  {
   "cell_type": "code",
   "execution_count": 1,
   "id": "fe25087b-1c64-4d38-a15d-fad1b64851e7",
   "metadata": {},
   "outputs": [
    {
     "name": "stdout",
     "output_type": "stream",
     "text": [
      "Estimated population mean: 25.8\n"
     ]
    }
   ],
   "source": [
    "def population_mean_estimate(sample_mean, sample_std_dev):\n",
    "    return sample_mean\n",
    "\n",
    "\n",
    "sample_mean = 25.8\n",
    "sample_std_dev = 4.2\n",
    "\n",
    "estimated_population_mean = population_mean_estimate(sample_mean, sample_std_dev)\n",
    "print(\"Estimated population mean:\", estimated_population_mean)\n"
   ]
  },
  {
   "cell_type": "code",
   "execution_count": null,
   "id": "f3b466ad-98f6-4676-b638-48abf5cb21f1",
   "metadata": {},
   "outputs": [],
   "source": [
    "Q3: What is Hypothesis testing? Why is it used? State the importance of Hypothesis testing."
   ]
  },
  {
   "cell_type": "code",
   "execution_count": null,
   "id": "28861f96-55eb-43f2-a75a-3d4fd22f4858",
   "metadata": {},
   "outputs": [],
   "source": [
    "Hypothesis testing is a statistical method used to make decisions about population parameters based on sample data. \n",
    "The goal is to determine whether there is enough evidence to reject the null hypothesis in favor of the alternative \n",
    "hypothesis or not.\n",
    "\n",
    "Importance of Hypothesis Testing:\n",
    "Inference Making\n",
    "Data-Driven Decision Making\n",
    "Scientific Progress\n",
    "Policy and Business Decisions"
   ]
  },
  {
   "cell_type": "code",
   "execution_count": null,
   "id": "baa60935-e18e-4d45-a817-9e94fdf9b44a",
   "metadata": {},
   "outputs": [],
   "source": [
    "Q4. Create a hypothesis that states whether the average weight of male college students is greater than\n",
    "the average weight of female college students."
   ]
  },
  {
   "cell_type": "code",
   "execution_count": null,
   "id": "a2a48bd6-0bf5-4977-b3ff-edd4ae54635b",
   "metadata": {},
   "outputs": [],
   "source": [
    "Null Hypothesis (H0):\n",
    "The null hypothesis states that there is no difference in the average weight of male and \n",
    "female college students. It suggests that the average weight of male college students is \n",
    "equal to or less than the average weight of female college students.\n",
    "\n",
    "H0: μ_male <= μ_female"
   ]
  },
  {
   "cell_type": "code",
   "execution_count": null,
   "id": "d50beb96-e3c0-42d6-b3ab-8fcf6febf5ea",
   "metadata": {},
   "outputs": [],
   "source": [
    "Q5. Write a Python script to conduct a hypothesis test on the difference between two population means,\n",
    "given a sample from each population."
   ]
  },
  {
   "cell_type": "code",
   "execution_count": 2,
   "id": "49c0cd16-a91d-44ee-9c80-793b95d3437e",
   "metadata": {},
   "outputs": [
    {
     "name": "stdout",
     "output_type": "stream",
     "text": [
      "T-statistic: 3.4856850115866695\n",
      "P-value: 1.9834990186576444\n",
      "Fail to reject the null hypothesis. There is no significant difference between the means.\n"
     ]
    }
   ],
   "source": [
    "import numpy as np\n",
    "from scipy.stats import ttest_ind\n",
    "def two_sample_t_test(sample1, sample2, alpha=0.05):\n",
    "    mean1 = np.mean(sample1)\n",
    "    mean2 = np.mean(sample2)\n",
    "    std1 = np.std(sample1, ddof=1)  \n",
    "    std2 = np.std(sample2, ddof=1)\n",
    "    n1 = len(sample1)\n",
    "    n2 = len(sample2)\n",
    "    dof = n1 + n2 - 2\n",
    "    pooled_std_error = np.sqrt(((n1 - 1) * std1**2 + (n2 - 1) * std2**2) / dof * (1 / n1 + 1 / n2))\n",
    "    t_statistic = (mean1 - mean2) / pooled_std_error\n",
    "    critical_t = abs(ttest_ind(sample1, sample2)[0])\n",
    "    p_value = 2 * (1 - ttest_ind(sample1, sample2)[1])\n",
    "    if p_value < alpha:\n",
    "        result = \"Reject the null hypothesis. There is a significant difference between the means.\"\n",
    "    else:\n",
    "        result = \"Fail to reject the null hypothesis. There is no significant difference between the means.\"\n",
    "\n",
    "    return t_statistic, p_value, result\n",
    "sample1 = np.array([68, 71, 65, 72, 67])\n",
    "sample2 = np.array([63, 66, 62, 64, 61])\n",
    "\n",
    "t_statistic, p_value, result = two_sample_t_test(sample1, sample2)\n",
    "print(\"T-statistic:\", t_statistic)\n",
    "print(\"P-value:\", p_value)\n",
    "print(result)\n"
   ]
  },
  {
   "cell_type": "code",
   "execution_count": null,
   "id": "832a34eb-0a64-41ee-86cf-becdad00b819",
   "metadata": {},
   "outputs": [],
   "source": [
    "Q6: What is a null and alternative hypothesis? Give some examples."
   ]
  },
  {
   "cell_type": "code",
   "execution_count": null,
   "id": "a478d2bb-3d9a-430d-a00b-171ba5e52c44",
   "metadata": {},
   "outputs": [],
   "source": [
    "Null Hypothesis (H0):\n",
    "The null hypothesis is the default assumption or the statement of no effect, no difference, or no relationship. \n",
    "It represents the status quo or the belief that there is no change or no effect in the population\n",
    "\n",
    "Example : A new drug has no effect on reducing blood pressure.\n",
    "          H0: The average blood pressure for patients taking the new drug is the same as the average blood \n",
    "          blood pressure for patients on a placebo.\n",
    "        \n",
    "Alternative Hypothesis (Ha):\n",
    "The alternative hypothesis is the statement that contradicts the null hypothesis. It represents the researcher's \n",
    "claim or the belief that there is a significant effect, difference, or relationship in the population. The alternative \n",
    "hypothesis is what the researcher seeks evidence for during hypothesis testing.\n",
    "\n",
    "Example 1: The new drug reduces blood pressure significantly.\n",
    "H1: The average blood pressure for patients taking the new drug is lower than the average \n",
    "blood pressure for patients on a placebo.\n"
   ]
  },
  {
   "cell_type": "code",
   "execution_count": null,
   "id": "0d665f8e-41c4-458b-90a1-89119359c7b1",
   "metadata": {},
   "outputs": [],
   "source": [
    "Q7: Write down the steps involved in hypothesis testing."
   ]
  },
  {
   "cell_type": "code",
   "execution_count": null,
   "id": "773ce3eb-6cec-4660-8a15-989c3cc61f20",
   "metadata": {},
   "outputs": [],
   "source": [
    "Step 1: State the Hypotheses\n",
    "Step 2: Set the Significance Level (Alpha)\n",
    "Step 3: Select the Appropriate Test\n",
    "Step 4: Collect Data and Calculate Test Statistic\n",
    "Step 5: Determine the P-value\n",
    "Step 6: Compare P-value with Alpha\n",
    "Step 7: Draw Conclusion\n",
    "Step 8: Discuss Practical Significance"
   ]
  },
  {
   "cell_type": "code",
   "execution_count": null,
   "id": "0ba0f13c-94bf-467d-9e42-d2c629620dd2",
   "metadata": {},
   "outputs": [],
   "source": [
    "Q8. Define p-value and explain its significance in hypothesis testing."
   ]
  },
  {
   "cell_type": "code",
   "execution_count": null,
   "id": "102d4f45-c858-432e-96af-19b4a71b23ad",
   "metadata": {},
   "outputs": [],
   "source": [
    "The p-value (probability value) is a crucial concept in hypothesis testing. It represents the probability of obtaining \n",
    "the observed results, or more extreme results, under the assumption that the null hypothesis is true.\n",
    "\n",
    "Significance of p-value in Hypothesis Testing:\n",
    "Interpreting Results\n",
    "Decision Rule\n",
    "Statistical Significance\n",
    "Non-Significant Results\n",
    "Effect Size"
   ]
  },
  {
   "cell_type": "code",
   "execution_count": null,
   "id": "4848721f-89cd-4b15-be91-7cf0e101a53a",
   "metadata": {},
   "outputs": [],
   "source": [
    "Q9. Generate a Student's t-distribution plot using Python's matplotlib library, with the degrees of freedom\n",
    "parameter set to 10."
   ]
  },
  {
   "cell_type": "code",
   "execution_count": 3,
   "id": "43d8dc85-77f7-4218-a5fc-698456dd2c8a",
   "metadata": {},
   "outputs": [
    {
     "data": {
      "image/png": "[encoded data removed]",
      "text/plain": [
       "<Figure size 640x480 with 1 Axes>"
      ]
     },
     "metadata": {},
     "output_type": "display_data"
    }
   ],
   "source": [
    "import numpy as np\n",
    "import matplotlib.pyplot as plt\n",
    "from scipy.stats import t\n",
    "degrees_of_freedom = 10\n",
    "x = np.linspace(-5, 5, 500)\n",
    "pdf_values = t.pdf(x, df=degrees_of_freedom)\n",
    "\n",
    "plt.plot(x, pdf_values, label=f\"Degrees of Freedom = {degrees_of_freedom}\")\n",
    "plt.xlabel('x')\n",
    "plt.ylabel('Probability Density Function (PDF)')\n",
    "plt.title('Student\\'s t-Distribution')\n",
    "plt.legend()\n",
    "plt.grid(True)\n",
    "plt.show()\n"
   ]
  },
  {
   "cell_type": "code",
   "execution_count": null,
   "id": "351068d3-2c40-4014-a84e-0dffcd25ed47",
   "metadata": {},
   "outputs": [],
   "source": [
    "Q10. Write a Python program to calculate the two-sample t-test for independent samples, given two\n",
    "random samples of equal size and a null hypothesis that the population means are equal."
   ]
  },
  {
   "cell_type": "code",
   "execution_count": 4,
   "id": "72f1c2f1-2a0e-435a-9210-0bb320836d2b",
   "metadata": {},
   "outputs": [
    {
     "name": "stdout",
     "output_type": "stream",
     "text": [
      "T-statistic: 3.4856850115866695\n",
      "P-value: 0.008250490671177776\n",
      "Reject the null hypothesis. There is a significant difference between the means.\n"
     ]
    }
   ],
   "source": [
    "import numpy as np\n",
    "from scipy.stats import ttest_ind\n",
    "\n",
    "def two_sample_t_test(sample1, sample2, alpha=0.05):\n",
    "    \n",
    "    t_statistic, p_value = ttest_ind(sample1, sample2)\n",
    "\n",
    "    \n",
    "    if p_value < alpha:\n",
    "        result = \"Reject the null hypothesis. There is a significant difference between the means.\"\n",
    "    else:\n",
    "        result = \"Fail to reject the null hypothesis. There is no significant difference between the means.\"\n",
    "\n",
    "    return t_statistic, p_value, result\n",
    "\n",
    "\n",
    "sample1 = np.array([68, 71, 65, 72, 67])\n",
    "sample2 = np.array([63, 66, 62, 64, 61])\n",
    "\n",
    "t_statistic, p_value, result = two_sample_t_test(sample1, sample2)\n",
    "print(\"T-statistic:\", t_statistic)\n",
    "print(\"P-value:\", p_value)\n",
    "print(result)\n"
   ]
  },
  {
   "cell_type": "code",
   "execution_count": null,
   "id": "b3dffec0-1d78-4ca6-a251-89ace8370742",
   "metadata": {},
   "outputs": [],
   "source": [
    "Q11: What is Student’s t distribution? When to use the t-Distribution."
   ]
  },
  {
   "cell_type": "code",
   "execution_count": null,
   "id": "f706e300-ddee-41e3-b9d5-6cdd3251d6da",
   "metadata": {},
   "outputs": [],
   "source": [
    "Student's t-distribution, often simply referred to as the t-distribution, is a probability distribution that is widely \n",
    "used in statistics for hypothesis testing and constructing confidence intervals when dealing with small\n",
    "sample sizes or when the population standard deviation is unknown.\n",
    "\n",
    "The t-distribution is used in situations where the following conditions are met:\n",
    "\n",
    "Small Sample Size\n",
    "Unknown Population Standard Deviation\n",
    "Population is Approximately Normal\n",
    "Outliers and Skewed Data"
   ]
  },
  {
   "cell_type": "code",
   "execution_count": null,
   "id": "11293d54-2078-410b-b6aa-df13cce78220",
   "metadata": {},
   "outputs": [],
   "source": [
    "Q12: What is t-statistic? State the formula for t-statistic."
   ]
  },
  {
   "cell_type": "code",
   "execution_count": null,
   "id": "4e05fee5-4cc7-4389-ab13-c72699f09947",
   "metadata": {},
   "outputs": [],
   "source": [
    "The t-statistic (also known as the t-value) is a measure used in hypothesis testing to assess the difference between sample \n",
    "means or proportions and to determine whether there is enough evidence to reject the null  hypothesis in favor of the \n",
    " alternative hypothesis. It is calculated based on sample data and provides a way to estimate the population parameter.\n",
    "\n",
    "t = (mean1 - mean2) / sqrt((s1^2 / n1) + (s2^2 / n2))"
   ]
  },
  {
   "cell_type": "code",
   "execution_count": null,
   "id": "c25e6c12-10b4-4a23-9b9c-81fcfcc4365b",
   "metadata": {},
   "outputs": [],
   "source": [
    "Q13. A coffee shop owner wants to estimate the average daily revenue for their shop. They take a random\n",
    "sample of 50 days and find the sample mean revenue to be $500 with a standard deviation of $50.\n",
    "Estimate the population mean revenue with a 95% confidence interval."
   ]
  },
  {
   "cell_type": "code",
   "execution_count": null,
   "id": "31f1ff38-fdd3-4a09-96d3-bc99b1ef90e5",
   "metadata": {},
   "outputs": [],
   "source": [
    "sample_mean = 500\n",
    "sample_std_dev = 50  \n",
    "sample_size = 50\n",
    "confidence_level = 0.95\n",
    "\n"
   ]
  },
  {
   "cell_type": "code",
   "execution_count": 6,
   "id": "201f0623-21a6-4178-90ec-d27c3ec931e2",
   "metadata": {},
   "outputs": [
    {
     "name": "stdout",
     "output_type": "stream",
     "text": [
      "Sample Mean Revenue: 500\n",
      "95% Confidence Interval for Population Mean Revenue: ($488.14, $511.86)\n"
     ]
    }
   ],
   "source": [
    "import numpy as np\n",
    "from scipy.stats import t\n",
    "\n",
    "\n",
    "sample_mean = 500  \n",
    "sample_std_dev = 50\n",
    "sample_size = 50  \n",
    "\n",
    "\n",
    "confidence_level = 0.95\n",
    "t_critical = t.ppf(confidence_level, df=sample_size - 1)\n",
    "\n",
    "\n",
    "margin_of_error = t_critical * (sample_std_dev / np.sqrt(sample_size))\n",
    "\n",
    "\n",
    "lower_bound = sample_mean - margin_of_error\n",
    "upper_bound = sample_mean + margin_of_error\n",
    "\n",
    "\n",
    "print(\"Sample Mean Revenue:\", sample_mean)\n",
    "print(\"95% Confidence Interval for Population Mean Revenue: (${:.2f}, ${:.2f})\".format(lower_bound, upper_bound))\n"
   ]
  },
  {
   "cell_type": "code",
   "execution_count": null,
   "id": "a5518859-7843-4f96-9880-2e572eece714",
   "metadata": {},
   "outputs": [],
   "source": [
    "Q14. A researcher hypothesizes that a new drug will decrease blood pressure by 10 mmHg. They conduct a\n",
    "clinical trial with 100 patients and find that the sample mean decrease in blood pressure is 8 mmHg with a\n",
    "standard deviation of 3 mmHg. Test the hypothesis with a significance level of 0.05."
   ]
  },
  {
   "cell_type": "code",
   "execution_count": 7,
   "id": "8a233ac0-7c32-49b7-be5e-563dc7998a57",
   "metadata": {},
   "outputs": [
    {
     "name": "stdout",
     "output_type": "stream",
     "text": [
      "Sample Mean Decrease in Blood Pressure: 8 mmHg\n",
      "Hypothesized Mean Decrease in Blood Pressure: 10 mmHg\n",
      "T-statistic: -6.666666666666667\n",
      "Critical t-value: 1.9842169515086827\n",
      "Result: Reject the null hypothesis. The drug decreases blood pressure significantly.\n"
     ]
    }
   ],
   "source": [
    "\n",
    "hypothesized_mean = 10  \n",
    "sample_mean = 8  \n",
    "sample_std_dev = 3  \n",
    "sample_size = 100  \n",
    "\n",
    "\n",
    "t_statistic = (sample_mean - hypothesized_mean) / (sample_std_dev / np.sqrt(sample_size))\n",
    "\n",
    "\n",
    "significance_level = 0.05\n",
    "degrees_of_freedom = sample_size - 1\n",
    "critical_t = t.ppf(1 - significance_level / 2, df=degrees_of_freedom)\n",
    "\n",
    "\n",
    "if abs(t_statistic) > critical_t:\n",
    "    result = \"Reject the null hypothesis. The drug decreases blood pressure significantly.\"\n",
    "else:\n",
    "    result = \"Fail to reject the null hypothesis. There is no significant decrease in blood pressure.\"\n",
    "\n",
    "\n",
    "print(\"Sample Mean Decrease in Blood Pressure:\", sample_mean, \"mmHg\")\n",
    "print(\"Hypothesized Mean Decrease in Blood Pressure:\", hypothesized_mean, \"mmHg\")\n",
    "print(\"T-statistic:\", t_statistic)\n",
    "print(\"Critical t-value:\", critical_t)\n",
    "print(\"Result:\", result)\n"
   ]
  },
  {
   "cell_type": "code",
   "execution_count": null,
   "id": "b57527b9-f3c0-4e95-9f3c-5358773dad83",
   "metadata": {},
   "outputs": [],
   "source": [
    "Q15. An electronics company produces a certain type of product with a mean weight of 5 pounds and a\n",
    "standard deviation of 0.5 pounds. A random sample of 25 products is taken, and the sample mean weight\n",
    "is found to be 4.8 pounds. Test the hypothesis that the true mean weight of the products is less than 5\n",
    "pounds with a significance level of 0.01."
   ]
  },
  {
   "cell_type": "code",
   "execution_count": 8,
   "id": "2aebd07e-21c7-4d9c-bd58-2730a76937ec",
   "metadata": {},
   "outputs": [
    {
     "name": "stdout",
     "output_type": "stream",
     "text": [
      "Sample Mean Weight: 4.8 pounds\n",
      "Hypothesized Mean Weight: 5 pounds\n",
      "T-statistic: -2.0000000000000018\n",
      "Critical t-value: -2.4921594731575762\n",
      "Result: Fail to reject the null hypothesis. There is no significant evidence that the true mean weight is less than 5 pounds.\n"
     ]
    }
   ],
   "source": [
    "\n",
    "hypothesized_mean = 5  # Hypothesized true mean weight (in pounds)\n",
    "sample_mean = 4.8  # Sample mean weight (in pounds)\n",
    "sample_std_dev = 0.5  # Sample standard deviation (in pounds)\n",
    "sample_size = 25  # Sample size\n",
    "\n",
    "# Calculate the t-statistic\n",
    "t_statistic = (sample_mean - hypothesized_mean) / (sample_std_dev / np.sqrt(sample_size))\n",
    "\n",
    "\n",
    "significance_level = 0.01\n",
    "degrees_of_freedom = sample_size - 1\n",
    "critical_t = t.ppf(significance_level, df=degrees_of_freedom)\n",
    "\n",
    "if t_statistic < critical_t:\n",
    "    result = \"Reject the null hypothesis. The true mean weight is less than 5 pounds.\"\n",
    "else:\n",
    "    result = \"Fail to reject the null hypothesis. There is no significant evidence that the true mean weight is less than 5 pounds.\"\n",
    "\n",
    "print(\"Sample Mean Weight:\", sample_mean, \"pounds\")\n",
    "print(\"Hypothesized Mean Weight:\", hypothesized_mean, \"pounds\")\n",
    "print(\"T-statistic:\", t_statistic)\n",
    "print(\"Critical t-value:\", critical_t)\n",
    "print(\"Result:\", result)\n"
   ]
  },
  {
   "cell_type": "code",
   "execution_count": null,
   "id": "f2ae9a4b-ec35-42fd-8b36-464efc7ccfdc",
   "metadata": {},
   "outputs": [],
   "source": [
    "Q16. Two groups of students are given different study materials to prepare for a test. The first group (n1 =\n",
    "30) has a mean score of 80 with a standard deviation of 10, and the second group (n2 = 40) has a mean\n",
    "score of 75 with a standard deviation of 8. Test the hypothesis that the population means for the two\n",
    "groups are equal with a significance level of 0.01."
   ]
  },
  {
   "cell_type": "code",
   "execution_count": 9,
   "id": "96cd5c96-4044-4c65-a2f1-8e6c2c5359ef",
   "metadata": {},
   "outputs": [
    {
     "name": "stdout",
     "output_type": "stream",
     "text": [
      "Group 1: Mean = 80  Standard Deviation = 10  Sample Size = 30\n",
      "Group 2: Mean = 75  Standard Deviation = 8  Sample Size = 40\n",
      "T-statistic: 2.2511258444537408\n",
      "Critical t-value: 2.6500812928169553\n",
      "Result: Fail to reject the null hypothesis. There is no significant difference in the population means for the two groups.\n"
     ]
    }
   ],
   "source": [
    "import numpy as np\n",
    "from scipy.stats import t\n",
    "\n",
    "# Given data for Group 1\n",
    "mean1 = 80\n",
    "std_dev1 = 10\n",
    "sample_size1 = 30\n",
    "\n",
    "# Given data for Group 2\n",
    "mean2 = 75\n",
    "std_dev2 = 8\n",
    "sample_size2 = 40\n",
    "\n",
    "numerator = mean1 - mean2\n",
    "denominator = np.sqrt((std_dev1**2 / sample_size1) + (std_dev2**2 / sample_size2))\n",
    "t_statistic = numerator / denominator\n",
    "\n",
    "significance_level = 0.01\n",
    "degrees_of_freedom = sample_size1 + sample_size2 - 2\n",
    "critical_t = t.ppf(1 - significance_level / 2, df=degrees_of_freedom)\n",
    "\n",
    "\n",
    "if abs(t_statistic) > critical_t:\n",
    "    result = \"Reject the null hypothesis. The population means for the two groups are not equal.\"\n",
    "else:\n",
    "    result = \"Fail to reject the null hypothesis. There is no significant difference in the population means for the two groups.\"\n",
    "\n",
    "\n",
    "print(\"Group 1: Mean =\", mean1, \" Standard Deviation =\", std_dev1, \" Sample Size =\", sample_size1)\n",
    "print(\"Group 2: Mean =\", mean2, \" Standard Deviation =\", std_dev2, \" Sample Size =\", sample_size2)\n",
    "print(\"T-statistic:\", t_statistic)\n",
    "print(\"Critical t-value:\", critical_t)\n",
    "print(\"Result:\", result)\n"
   ]
  },
  {
   "cell_type": "code",
   "execution_count": null,
   "id": "c6018f33-4f29-4488-9ae7-65f8dc64f971",
   "metadata": {},
   "outputs": [],
   "source": [
    "Q17. A marketing company wants to estimate the average number of ads watched by viewers during a TV\n",
    "program. They take a random sample of 50 viewers and find that the sample mean is 4 with a standard\n",
    "deviation of 1.5. Estimate the population mean with a 99% confidence interval."
   ]
  },
  {
   "cell_type": "code",
   "execution_count": 12,
   "id": "3131a2b9-b555-4057-bd34-0ac56abd3531",
   "metadata": {},
   "outputs": [
    {
     "name": "stdout",
     "output_type": "stream",
     "text": [
      "Sample Mean Number of Ads Watched: 4\n",
      "99% Confidence Interval for Population Mean Number of Ads Watched: (488.14, 511.86)\n"
     ]
    }
   ],
   "source": [
    "\n",
    "sample_mean = 4  \n",
    "sample_std_dev = 1.5  \n",
    "sample_size = 50  \n",
    "confidence_level = 0.99\n",
    "\n",
    "print(\"Sample Mean Number of Ads Watched:\", sample_mean)\n",
    "print(\"99% Confidence Interval for Population Mean Number of Ads Watched: ({:.2f}, {:.2f})\".format(lower_bound, upper_bound))\n"
   ]
  },
  {
   "cell_type": "code",
   "execution_count": null,
   "id": "141b5085-266d-4be9-86a2-2ce26ea7a33e",
   "metadata": {},
   "outputs": [],
   "source": []
  }
 ],
 "metadata": {
  "kernelspec": {
   "display_name": "Python 3 (ipykernel)",
   "language": "python",
   "name": "python3"
  },
  "language_info": {
   "codemirror_mode": {
    "name": "ipython",
    "version": 3
   },
   "file_extension": ".py",
   "mimetype": "text/x-python",
   "name": "python",
   "nbconvert_exporter": "python",
   "pygments_lexer": "ipython3",
   "version": "3.10.8"
  }
 },
 "nbformat": 4,
 "nbformat_minor": 5
}
